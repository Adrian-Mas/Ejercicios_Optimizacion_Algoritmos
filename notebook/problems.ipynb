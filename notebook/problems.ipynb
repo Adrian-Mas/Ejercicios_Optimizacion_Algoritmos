{
 "cells": [
  {
   "attachments": {},
   "cell_type": "markdown",
   "id": "27b09e13",
   "metadata": {},
   "source": [
    "# Optimization of Algorithms problems"
   ]
  },
  {
   "attachments": {},
   "cell_type": "markdown",
   "id": "ed05e9bf",
   "metadata": {},
   "source": [
    "## Exercise 1\n",
    "### Code Optimization for Text Processing\n",
    "\n",
    "You are provided with a text processing code to perform the following operations:\n",
    "\n",
    "1. Convert all text to lowercase.\n",
    "2. Remove punctuation marks.\n",
    "3. Count the frequency of each word.\n",
    "4. Show the 5 most common words.\n",
    "\n",
    "The code works, but it is inefficient and can be optimized. Your task is to identify areas that can be improved and rewrite those parts to make the code more efficient and readable."
   ]
  },
  {
   "cell_type": "code",
   "execution_count": 42,
   "id": "8467465b",
   "metadata": {},
   "outputs": [
    {
     "name": "stdout",
     "output_type": "stream",
     "text": [
      "'the': 5 times\n",
      "'of': 3 times\n",
      "'in': 2 times\n",
      "'a': 2 times\n",
      "'she': 2 times\n",
      "1730144912.229244\n"
     ]
    }
   ],
   "source": [
    "import string\n",
    "import re\n",
    "from collections import Counter\n",
    "import time \n",
    "\n",
    "\n",
    "def process_text(text):\n",
    "\n",
    "   # 1) Text to lowercase\n",
    "   # 2) Remove punctuation\n",
    "    text = re.sub(r'[^\\w\\s]', '', text.lower())\n",
    "\n",
    "\n",
    "\n",
    "    #3 Split text into words\n",
    "    words = text.split()\n",
    "\n",
    "    #4 Count frecuencies\n",
    "    frequencies = Counter(words)\n",
    "\n",
    "\n",
    "    #5 Get 5 most-common words\n",
    "    top_5 =frequencies.most_common(5)\n",
    "\n",
    "    for w, frequency in top_5:\n",
    "        print(f\"'{w}': {frequency} times\")\n",
    "\n",
    "text = \"\"\"\n",
    "    In the heart of the city, Emily discovered a quaint little café, hidden away from the bustling streets. \n",
    "    The aroma of freshly baked pastries wafted through the air, drawing in passersby. As she sipped on her latte, \n",
    "    she noticed an old bookshelf filled with classics, creating a cozy atmosphere that made her lose track of time.\n",
    "\"\"\"\n",
    "process_text(text)\n",
    "print(time.time())\n"
   ]
  },
  {
   "cell_type": "markdown",
   "id": "29040779",
   "metadata": {},
   "source": [
    "Points to optimize:\n",
    "\n",
    "1. **Removal of punctuation marks**: Using `replace` in a loop can be inefficient, especially with long texts. Look for a more efficient way to remove punctuation marks.\n",
    "2. **Frequency count**: The code checks for the existence of each word in the dictionary and then updates its count. This can be done more efficiently with certain data structures in Python.\n",
    "3. **Sort and select:** Consider if there is a more direct or efficient way to get the 5 most frequent words without sorting all the words.\n",
    "4. **Modularity**: Break the code into smaller functions so that each one performs a specific task. This will not only optimize performance, but also make the code more readable and maintainable."
   ]
  },
  {
   "cell_type": "code",
   "execution_count": 2,
   "id": "57cd6641",
   "metadata": {},
   "outputs": [],
   "source": [
    "# TODO"
   ]
  },
  {
   "attachments": {},
   "cell_type": "markdown",
   "id": "011996bc",
   "metadata": {},
   "source": [
    "## Exercise 2\n",
    "### Code Optimization for List Processing\n",
    "\n",
    "You have been given a code that performs operations on a list of numbers for:\n",
    "\n",
    "1. Filter out even numbers.\n",
    "2. Duplicate each number.\n",
    "3. Add all numbers.\n",
    "4. Check if the result is a prime number.\n",
    "\n",
    "The code provided achieves its goal, but it may be inefficient. Your task is to identify and improve the parts of the code to increase its efficiency."
   ]
  },
  {
   "cell_type": "code",
   "execution_count": 4,
   "id": "783d03a0",
   "metadata": {},
   "outputs": [
    {
     "name": "stdout",
     "output_type": "stream",
     "text": [
      "Result: 60, ¿Prime? No\n"
     ]
    }
   ],
   "source": [
    "import math\n",
    "import numpy as np\n",
    "import pandas as pd\n",
    "\n",
    "\n",
    "# 1) Decide si un número es primo\n",
    "def is_prime(n):\n",
    "    if n <= 1:\n",
    "        return False\n",
    "    for i in range(2, int(math.sqrt(n)) + 1):\n",
    "        if n % i == 0:\n",
    "            return False\n",
    "    return True\n",
    "\n",
    "\n",
    "# 2) Filtra números pares\n",
    "def pares(numero):\n",
    "    return not numero % 2\n",
    "def process_list(list_):\n",
    "    filtered_list = list(filter(pares, list_)) # llamamos a filter y posteriormente a list\n",
    "\n",
    "\n",
    "\n",
    "  #3)   Duplica los elementos de la lista pares\n",
    "    duplicate_list = filtered_list*2\n",
    "\n",
    "\n",
    "\n",
    "   #4) Sumar los elementos de una lista\n",
    "    suma = sum(duplicate_list)\n",
    "    prime = is_prime(suma)\n",
    "    return suma, prime\n",
    "list_ = [1, 2, 3, 4, 5, 6, 7, 8, 9, 10]\n",
    "result, result_prime = process_list(list_)\n",
    "\n",
    "\n",
    "\n",
    "print(f\"Result: {result}, ¿Prime? {'Yes' if result_prime else 'No'}\")\n",
    "\n",
    "\n",
    "\n",
    "\n"
   ]
  },
  {
   "cell_type": "markdown",
   "id": "128d564e",
   "metadata": {},
   "source": [
    "Points to optimize:\n",
    "\n",
    "1. **Filter numbers**: The code goes through the original list to filter out even numbers. Consider a more efficient way to filter the list.\n",
    "2. **Duplication**: The list is traversed multiple times. Is there a way to do this more efficiently?\n",
    "3. **Summing**: The numbers in a list are summed through a loop. Python has built-in functions that can optimize this.\n",
    "4. **Function `is_prime`**: While this function is relatively efficient, investigate if there are ways to make it even faster.\n",
    "5. **Modularity**: Consider breaking the code into smaller functions, each focused on a specific task."
   ]
  },
  {
   "cell_type": "code",
   "execution_count": 4,
   "id": "f40e35d6",
   "metadata": {},
   "outputs": [],
   "source": [
    "# TODO"
   ]
  },
  {
   "attachments": {},
   "cell_type": "markdown",
   "id": "1af70806",
   "metadata": {},
   "source": [
    "Both exercises will help you improve your code performance optimization skills and give you a better understanding of how different data structures and programming techniques can affect the efficiency of your code."
   ]
  }
 ],
 "metadata": {
  "kernelspec": {
   "display_name": "Python 3",
   "language": "python",
   "name": "python3"
  },
  "language_info": {
   "codemirror_mode": {
    "name": "ipython",
    "version": 3
   },
   "file_extension": ".py",
   "mimetype": "text/x-python",
   "name": "python",
   "nbconvert_exporter": "python",
   "pygments_lexer": "ipython3",
   "version": "3.11.4"
  }
 },
 "nbformat": 4,
 "nbformat_minor": 5
}
